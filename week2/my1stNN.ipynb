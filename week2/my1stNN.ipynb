{
 "cells": [
  {
   "cell_type": "code",
   "execution_count": 1,
   "metadata": {
    "ExecuteTime": {
     "end_time": "2018-06-18T17:57:15.206264Z",
     "start_time": "2018-06-18T17:57:12.029727Z"
    }
   },
   "outputs": [
    {
     "name": "stderr",
     "output_type": "stream",
     "text": [
      "Using TensorFlow backend.\n"
     ]
    },
    {
     "name": "stdout",
     "output_type": "stream",
     "text": [
      "(50000, 28, 28) (50000,)\n"
     ]
    },
    {
     "data": {
      "image/png": "[encoded data removed]",
      "text/plain": [
       "<matplotlib.figure.Figure at 0x1a8103da2e8>"
      ]
     },
     "metadata": {},
     "output_type": "display_data"
    }
   ],
   "source": [
    "from preprocessed_mnist import load_dataset\n",
    "X_train, y_train, X_val, y_val, X_test, y_test = load_dataset()\n",
    "print(X_train.shape, y_train.shape)\n",
    "import matplotlib.pyplot as plt\n",
    "%matplotlib inline\n",
    "plt.imshow(X_train[0], cmap=\"Greys\");"
   ]
  },
  {
   "cell_type": "code",
   "execution_count": 2,
   "metadata": {
    "ExecuteTime": {
     "end_time": "2018-06-18T17:57:15.436609Z",
     "start_time": "2018-06-18T17:57:15.210222Z"
    }
   },
   "outputs": [],
   "source": [
    "import tensorflow as tf\n",
    "import numpy as np\n",
    "from sklearn.preprocessing import OneHotEncoder"
   ]
  },
  {
   "cell_type": "code",
   "execution_count": 3,
   "metadata": {
    "ExecuteTime": {
     "end_time": "2018-06-18T17:57:15.467586Z",
     "start_time": "2018-06-18T17:57:15.438603Z"
    }
   },
   "outputs": [],
   "source": [
    "s = tf.InteractiveSession()"
   ]
  },
  {
   "cell_type": "code",
   "execution_count": 4,
   "metadata": {
    "ExecuteTime": {
     "end_time": "2018-06-18T17:57:15.534762Z",
     "start_time": "2018-06-18T17:57:15.469573Z"
    }
   },
   "outputs": [
    {
     "name": "stdout",
     "output_type": "stream",
     "text": [
      "(50000, 784)\n",
      "(10000, 784)\n",
      "(10000, 784)\n",
      "(50000, 10)\n",
      "(10000, 10)\n",
      "(10000, 10)\n"
     ]
    }
   ],
   "source": [
    "# Flatten images\n",
    "X_train = X_train.reshape(X_train.shape[0], -1)\n",
    "X_val = X_val.reshape(X_val.shape[0], -1)\n",
    "X_test = X_test.reshape(X_test.shape[0], -1)\n",
    "print(X_train.shape)\n",
    "print(X_val.shape)\n",
    "print(X_test.shape)\n",
    "# One hot encode labels\n",
    "ohe = OneHotEncoder(sparse=False)\n",
    "y_train = ohe.fit_transform(y_train.reshape(-1, 1))\n",
    "y_val = ohe.transform(y_val.reshape(-1, 1))\n",
    "y_test = ohe.transform(y_test.reshape(-1, 1))\n",
    "print(y_train.shape)\n",
    "print(y_val.shape)\n",
    "print(y_test.shape)"
   ]
  },
  {
   "cell_type": "code",
   "execution_count": 5,
   "metadata": {
    "ExecuteTime": {
     "end_time": "2018-06-18T17:57:15.615509Z",
     "start_time": "2018-06-18T17:57:15.537718Z"
    }
   },
   "outputs": [
    {
     "name": "stdout",
     "output_type": "stream",
     "text": [
      "#classes:  10\n"
     ]
    }
   ],
   "source": [
    "# params\n",
    "n_classes = y_train.shape[1]\n",
    "n_features = X_train.shape[1]\n",
    "n_hidden_neurons = 64\n",
    "learning_rate = 7e-2\n",
    "print('#classes: ', n_classes)"
   ]
  },
  {
   "cell_type": "code",
   "execution_count": 6,
   "metadata": {
    "ExecuteTime": {
     "end_time": "2018-06-18T17:57:15.699286Z",
     "start_time": "2018-06-18T17:57:15.618506Z"
    }
   },
   "outputs": [],
   "source": [
    "# X: [n-samples, n-dimension]\n",
    "# y: [n-samples, n-classes]\n",
    "input_X = tf.placeholder(tf.float32, [None, n_features], name='inputX')\n",
    "input_y = tf.placeholder(tf.float32, [None, n_classes], name='inputy')"
   ]
  },
  {
   "cell_type": "code",
   "execution_count": 7,
   "metadata": {
    "ExecuteTime": {
     "end_time": "2018-06-18T17:57:15.781134Z",
     "start_time": "2018-06-18T17:57:15.702279Z"
    }
   },
   "outputs": [],
   "source": [
    "# Hidden layer\n",
    "weights_hidden = tf.Variable(tf.random_normal([n_features, n_hidden_neurons]))\n",
    "bias_hidden = tf.Variable(tf.random_normal([n_hidden_neurons]))\n",
    "preactivations_hidden = tf.add(tf.matmul(input_X, weights_hidden), bias_hidden)\n",
    "activations_hidden = tf.nn.relu(preactivations_hidden)"
   ]
  },
  {
   "cell_type": "code",
   "execution_count": 8,
   "metadata": {
    "ExecuteTime": {
     "end_time": "2018-06-18T17:57:15.905264Z",
     "start_time": "2018-06-18T17:57:15.785134Z"
    }
   },
   "outputs": [],
   "source": [
    "# weights: [n-dimensions, n-classes]\n",
    "# biases: [n-classes]\n",
    "weights = tf.Variable(initial_value=tf.zeros([n_hidden_neurons, n_classes]), name='weights')\n",
    "b = tf.Variable(initial_value=tf.zeros([n_classes]), dtype=tf.float32, name='biases')"
   ]
  },
  {
   "cell_type": "code",
   "execution_count": 9,
   "metadata": {
    "ExecuteTime": {
     "end_time": "2018-06-18T17:57:16.159869Z",
     "start_time": "2018-06-18T17:57:15.907074Z"
    }
   },
   "outputs": [],
   "source": [
    "# model\n",
    "predicted_y = tf.nn.softmax(tf.matmul(activations_hidden, weights) + b)\n",
    "loss = -tf.reduce_mean((tf.log(predicted_y) * input_y) + (tf.log(1 - predicted_y) * (1 - input_y)))\n",
    "optimizer = tf.train.MomentumOptimizer(learning_rate=learning_rate, momentum=0.8).minimize(loss)"
   ]
  },
  {
   "cell_type": "code",
   "execution_count": 10,
   "metadata": {
    "ExecuteTime": {
     "end_time": "2018-06-18T17:57:16.169834Z",
     "start_time": "2018-06-18T17:57:16.163853Z"
    }
   },
   "outputs": [],
   "source": [
    "def minibatch(X, y, batch_size=64):\n",
    "    choices = np.random.choice(X.shape[0], batch_size)\n",
    "    return X[choices, :], y[choices, :]"
   ]
  },
  {
   "cell_type": "code",
   "execution_count": 11,
   "metadata": {
    "ExecuteTime": {
     "end_time": "2018-06-18T18:00:18.455649Z",
     "start_time": "2018-06-18T17:57:16.173822Z"
    },
    "scrolled": false
   },
   "outputs": [
    {
     "name": "stdout",
     "output_type": "stream",
     "text": [
      "--------40 of 400--------\n",
      "loss: 0.1267\n",
      "train auc: 0.9620764638312747\n",
      "val auc: 0.9693841722628532\n",
      "--------80 of 400--------\n",
      "loss: 0.1166\n",
      "train auc: 0.9681958880240368\n",
      "val auc: 0.9739759453267067\n",
      "--------120 of 400--------\n",
      "loss: 0.1182\n",
      "train auc: 0.9701868014728381\n",
      "val auc: 0.9751409641562716\n",
      "--------160 of 400--------\n",
      "loss: 0.1126\n",
      "train auc: 0.9710918662617318\n",
      "val auc: 0.9761649050143028\n",
      "--------200 of 400--------\n",
      "loss: 0.1087\n",
      "train auc: 0.9721995418938091\n",
      "val auc: 0.9771605726704321\n",
      "--------240 of 400--------\n",
      "loss: 0.1102\n",
      "train auc: 0.9724711911941585\n",
      "val auc: 0.9769584997125189\n",
      "--------280 of 400--------\n",
      "loss: nan\n",
      "train auc: 0.9721267037320549\n",
      "val auc: 0.9768627853084576\n",
      "--------320 of 400--------\n",
      "loss: 0.1081\n",
      "train auc: 0.973850967151451\n",
      "val auc: 0.978071485979029\n",
      "--------360 of 400--------\n",
      "loss: 0.1082\n",
      "train auc: 0.9742531748367069\n",
      "val auc: 0.9782871398567299\n",
      "--------400 of 400--------\n",
      "loss: 0.1166\n",
      "train auc: 0.9727102550395225\n",
      "val auc: 0.9768287689563335\n"
     ]
    },
    {
     "data": {
      "image/png": "[encoded data removed]",
      "text/plain": [
       "<matplotlib.figure.Figure at 0x1a81f864080>"
      ]
     },
     "metadata": {},
     "output_type": "display_data"
    },
    {
     "name": "stdout",
     "output_type": "stream",
     "text": [
      "Test auc: 0.976324009919898\n"
     ]
    }
   ],
   "source": [
    "from sklearn.metrics import roc_auc_score\n",
    "batch_size = 128\n",
    "n_epochs = 400\n",
    "train_losses = []\n",
    "val_losses = []\n",
    "s.run(tf.global_variables_initializer())\n",
    "for i in range(1, n_epochs + 1):\n",
    "    batch_X, batch_y = minibatch(X_train, y_train, batch_size)\n",
    "    s.run(optimizer, {input_X: batch_X, input_y: batch_y})\n",
    "    loss_train = s.run(loss, {input_X: X_train, input_y: y_train})\n",
    "    loss_val = s.run(loss, {input_X: X_val, input_y: y_val})\n",
    "    train_losses.append(loss_train)\n",
    "    val_losses.append(loss_val)\n",
    "    if i % (n_epochs // 10) == 0:\n",
    "        print('-' * 8 + str(i) + ' of ' + str(n_epochs) + '-' * 8)\n",
    "        print(\"loss: %.4f\" % (loss_train))\n",
    "        print(\"train auc:\",\n",
    "              roc_auc_score(y_train, s.run(predicted_y, {input_X: X_train})))\n",
    "        print(\"val auc:\",\n",
    "              roc_auc_score(y_val, s.run(predicted_y, {input_X: X_val})))\n",
    "\n",
    "plt.plot(train_losses, label='train')\n",
    "plt.plot(val_losses, label='val')\n",
    "plt.legend()\n",
    "plt.title('Loss: training & val')\n",
    "plt.show()\n",
    "\n",
    "print(\"Test auc:\", roc_auc_score(y_test, s.run(predicted_y,\n",
    "                                               {input_X: X_test})))"
   ]
  },
  {
   "cell_type": "code",
   "execution_count": null,
   "metadata": {},
   "outputs": [],
   "source": []
  }
 ],
 "metadata": {
  "kernelspec": {
   "display_name": "Python 3",
   "language": "python",
   "name": "python3"
  },
  "language_info": {
   "codemirror_mode": {
    "name": "ipython",
    "version": 3
   },
   "file_extension": ".py",
   "mimetype": "text/x-python",
   "name": "python",
   "nbconvert_exporter": "python",
   "pygments_lexer": "ipython3",
   "version": "3.5.2"
  },
  "toc": {
   "base_numbering": 1,
   "nav_menu": {
    "height": "257px",
    "width": "224px"
   },
   "number_sections": true,
   "sideBar": true,
   "skip_h1_title": false,
   "title_cell": "Table of Contents",
   "title_sidebar": "Contents",
   "toc_cell": false,
   "toc_position": {},
   "toc_section_display": true,
   "toc_window_display": false
  }
 },
 "nbformat": 4,
 "nbformat_minor": 2
}
