{
 "cells": [
  {
   "cell_type": "code",
   "execution_count": 1,
   "metadata": {
    "scrolled": false
   },
   "outputs": [
    {
     "name": "stderr",
     "output_type": "stream",
     "text": [
      "Using TensorFlow backend.\n"
     ]
    },
    {
     "name": "stdout",
     "output_type": "stream",
     "text": [
      "(50000, 784) (50000,)\n"
     ]
    },
    {
     "data": {
      "image/png": "[encoded data removed]",
      "text/plain": [
       "<Figure size 432x288 with 1 Axes>"
      ]
     },
     "metadata": {},
     "output_type": "display_data"
    }
   ],
   "source": [
    "from preprocessed_mnist import load_dataset\n",
    "X_train, y_train, X_val, y_val, X_test, y_test = load_dataset(flatten=True)\n",
    "print(X_train.shape, y_train.shape)\n",
    "import matplotlib.pyplot as plt\n",
    "%matplotlib inline\n",
    "plt.imshow(X_train[0].reshape((28, 28)), cmap=\"Greys\");"
   ]
  },
  {
   "cell_type": "code",
   "execution_count": 2,
   "metadata": {},
   "outputs": [
    {
     "name": "stdout",
     "output_type": "stream",
     "text": [
      "Tensorflow version:-  1.2.1\n"
     ]
    }
   ],
   "source": [
    "import tensorflow as tf\n",
    "import numpy as np\n",
    "import sys\n",
    "from sklearn.metrics import accuracy_score\n",
    "print(\"Tensorflow version:- \",tf.__version__)"
   ]
  },
  {
   "cell_type": "code",
   "execution_count": 3,
   "metadata": {
    "scrolled": true
   },
   "outputs": [
    {
     "name": "stdout",
     "output_type": "stream",
     "text": [
      "Train data stats | input data shape :- (50000, 784) | output data shape :- (50000,)\n",
      "Validation data stats | input data shape :- (10000, 784) | output data shape :- (10000,)\n",
      "Validation data stats | input data shape :- (10000, 784) | output data shape :- (10000,)\n",
      "(50000, 10)\n",
      "(10000, 10)\n",
      "(10000, 10)\n"
     ]
    }
   ],
   "source": [
    "print(\"Train data stats | input data shape :- {} | output data shape :- {}\".format(X_train.shape, y_train.shape))\n",
    "print(\"Validation data stats | input data shape :- {} | output data shape :- {}\".format(X_val.shape, y_val.shape))\n",
    "print(\"Validation data stats | input data shape :- {} | output data shape :- {}\".format(X_test.shape, y_test.shape))\n",
    "\n",
    "\n",
    "num_hidden_units_layer1 = 500\n",
    "num_hidden_units_layer2 = 10\n",
    "num_features = X_train.shape[1]\n",
    "num_classes = 10\n",
    "\n",
    "# Conversion to One-Hot encoded\n",
    "y_train = (np.arange(num_classes) == np.array(y_train)[:,None]).astype(np.float32)\n",
    "y_val = (np.arange(num_classes) == np.array(y_val)[:,None]).astype(np.float32)\n",
    "y_test = (np.arange(num_classes) == np.array(y_test)[:,None]).astype(np.float32)\n",
    "print(y_train.shape)\n",
    "print(y_val.shape)\n",
    "print(y_test.shape)"
   ]
  },
  {
   "cell_type": "code",
   "execution_count": 89,
   "metadata": {},
   "outputs": [
    {
     "name": "stdout",
     "output_type": "stream",
     "text": [
      "Input X :- Tensor(\"Placeholder_54:0\", shape=(?, 784), dtype=float32)\n",
      "Input Y :- Tensor(\"Placeholder_55:0\", shape=(?, 10), dtype=float32)\n",
      "for 1st layer\n",
      "Weight :- <tf.Variable 'Variable_100:0' shape=(784, 500) dtype=float32_ref>\n",
      "bias:- <tf.Variable 'Variable_101:0' shape=(1, 500) dtype=float32_ref>\n",
      "for 2nd layer\n",
      "Weight :- <tf.Variable 'Variable_102:0' shape=(500, 10) dtype=float32_ref>\n",
      "bias:- <tf.Variable 'Variable_103:0' shape=(1, 10) dtype=float32_ref>\n",
      "Output predicted tensor:-  Tensor(\"Softmax_2657:0\", shape=(?, 10), dtype=float32)\n",
      "Loss tensor :-  Tensor(\"softmax_cross_entropy_loss_24/value:0\", shape=(), dtype=float32)\n",
      "Optimizer tensor :-  name: \"Adam_5\"\n",
      "op: \"NoOp\"\n",
      "input: \"^Adam_5/update_Variable_100/ApplyAdam\"\n",
      "input: \"^Adam_5/update_Variable_101/ApplyAdam\"\n",
      "input: \"^Adam_5/update_Variable_102/ApplyAdam\"\n",
      "input: \"^Adam_5/update_Variable_103/ApplyAdam\"\n",
      "input: \"^Adam_5/Assign\"\n",
      "input: \"^Adam_5/Assign_1\"\n",
      "\n"
     ]
    }
   ],
   "source": [
    "# Input and Output definition\n",
    "input_X = tf.placeholder(tf.float32, shape=[None, num_features])\n",
    "input_y = tf.placeholder(tf.float32, shape=[None, num_classes])\n",
    "print(\"Input X :- {}\".format(input_X))\n",
    "print(\"Input Y :- {}\".format(input_y))\n",
    "\n",
    "\n",
    "initializer = tf.contrib.layers.xavier_initializer(seed=42)\n",
    "# First hidden layer \n",
    "weight1 = tf.Variable(initializer([num_features, num_hidden_units_layer1]))\n",
    "#     tf.truncated_normal(shape=(num_features, num_hidden_units_layer1)))\n",
    "bias1 = tf.Variable(tf.truncated_normal(shape=[1, num_hidden_units_layer1]))\n",
    "print(\"for 1st layer\")\n",
    "print(\"Weight :- {}\".format(weight1))\n",
    "print(\"bias:- {}\".format(bias1))\n",
    "\n",
    "# Second hidden layer\n",
    "weight2 = tf.Variable(initializer([num_hidden_units_layer1, num_hidden_units_layer2]))\n",
    "#     tf.truncated_normal(shape=(num_hidden_units_layer1, num_hidden_units_layer2)))\n",
    "bias2 = tf.Variable(tf.truncated_normal(shape=[1, num_hidden_units_layer2]))\n",
    "print(\"for 2nd layer\")\n",
    "print(\"Weight :- {}\".format(weight2))\n",
    "print(\"bias:- {}\".format(bias2))\n",
    "\n",
    "a1 = tf.nn.relu(tf.add(tf.matmul(input_X, weight1), bias1))\n",
    "\n",
    "predicted_y = tf.nn.softmax(tf.add(tf.matmul(a1, weight2), bias2))\n",
    "print(\"Output predicted tensor:- \", predicted_y)\n",
    "\n",
    "loss = tf.losses.softmax_cross_entropy(input_y, predicted_y)\n",
    "# loss = tf.reduce_mean(tf.nn.softmax_cross_entropy_with_logits(labels=labels, logits=predicted_y))\n",
    "print(\"Loss tensor :- \", loss)\n",
    "\n",
    "optimizer = tf.train.AdamOptimizer().minimize(loss, var_list=[weight1, bias1, weight2, bias2])\n",
    "\n",
    "print(\"Optimizer tensor :- \", optimizer)\n"
   ]
  },
  {
   "cell_type": "code",
   "execution_count": 90,
   "metadata": {
    "scrolled": false
   },
   "outputs": [
    {
     "name": "stdout",
     "output_type": "stream",
     "text": [
      "For Epoch 0...\n",
      "Train Accuracy:- 0.92174 || Validation Accuracy :- 0.9274\n",
      "For Epoch 10...\n",
      "Train Accuracy:- 0.98148 || Validation Accuracy :- 0.9708\n",
      "For Epoch 20...\n",
      "Train Accuracy:- 0.98936 || Validation Accuracy :- 0.9744\n",
      "For Epoch 30...\n",
      "Train Accuracy:- 0.99274 || Validation Accuracy :- 0.9775\n",
      "For Epoch 40...\n",
      "Train Accuracy:- 0.99378 || Validation Accuracy :- 0.9781\n",
      "For Epoch 50...\n",
      "Train Accuracy:- 0.99522 || Validation Accuracy :- 0.9786\n",
      "For Epoch 60...\n",
      "Train Accuracy:- 0.99564 || Validation Accuracy :- 0.9794\n",
      "For Epoch 70...\n",
      "Train Accuracy:- 0.99202 || Validation Accuracy :- 0.9761\n",
      "For Epoch 80...\n",
      "Train Accuracy:- 0.99624 || Validation Accuracy :- 0.9823\n",
      "For Epoch 90...\n",
      "Train Accuracy:- 0.99644 || Validation Accuracy :- 0.9814\n",
      "Model Training completed !!!\n",
      "Getting the Test Accuracy\n",
      "Test Accuracy :- 0.9805\n"
     ]
    }
   ],
   "source": [
    "epochs = 100\n",
    "mini_batch_size = 256\n",
    "training_loss = []\n",
    "validation_loss = []\n",
    "sess = tf.InteractiveSession()\n",
    "sess.run(tf.global_variables_initializer())\n",
    "sess.run(tf.local_variables_initializer())\n",
    "for i in range(epochs):\n",
    "    for counter, j in enumerate(np.arange(0, X_train.shape[0], mini_batch_size)):\n",
    "        if j + mini_batch_size < X_train.shape[0]:\n",
    "            indices = np.arange(j, j + mini_batch_size, 1)\n",
    "        else:\n",
    "            indices = np.arange(j, X_train.shape[0], 1)\n",
    "        X_batch = X_train[indices, :]\n",
    "        y_batch = y_train[indices, :]\n",
    "        sess.run(optimizer, {input_X: X_batch, input_y: y_batch})\n",
    "    loss_i = sess.run(loss, {input_X: X_batch, input_y: y_batch})\n",
    "    training_loss.append(loss_i)\n",
    "    train_pred = sess.run(tf.argmax(tf.nn.softmax(predicted_y), axis=1), \n",
    "                          feed_dict={input_X:X_train, input_y: y_train})\n",
    "    val_pred = sess.run(tf.argmax(tf.nn.softmax(predicted_y), axis=1), \n",
    "                        feed_dict={input_X:X_val, input_y: y_val})\n",
    "    train_acc = accuracy_score(np.argmax(y_train, axis=1), train_pred)\n",
    "    val_acc = accuracy_score(np.argmax(y_val, axis=1), val_pred)\n",
    "    if i % 10 == 0:\n",
    "        print(\"For Epoch {}...\".format(i, epochs))\n",
    "        print(\"Train Accuracy:- {} || Validation Accuracy :- {}\".format(train_acc, val_acc))\n",
    "\n",
    "print(\"Model Training completed !!!\")\n",
    "print(\"Getting the Test Accuracy\")\n",
    "test_pred = sess.run(tf.argmax(tf.nn.softmax(predicted_y), axis=1), \n",
    "                      feed_dict={input_X:X_test, input_y: y_test})\n",
    "test_acc = accuracy_score(np.argmax(y_test, axis=1), test_pred)\n",
    "print(\"Test Accuracy :- {}\".format(test_acc))"
   ]
  },
  {
   "cell_type": "code",
   "execution_count": 91,
   "metadata": {},
   "outputs": [
    {
     "data": {
      "image/png": "[encoded data removed]",
      "text/plain": [
       "<Figure size 432x288 with 1 Axes>"
      ]
     },
     "metadata": {},
     "output_type": "display_data"
    }
   ],
   "source": [
    "plt.plot(training_loss)\n",
    "plt.show()"
   ]
  },
  {
   "cell_type": "code",
   "execution_count": null,
   "metadata": {},
   "outputs": [],
   "source": []
  }
 ],
 "metadata": {
  "kernelspec": {
   "display_name": "Python 3",
   "language": "python",
   "name": "python3"
  },
  "language_info": {
   "codemirror_mode": {
    "name": "ipython",
    "version": 3
   },
   "file_extension": ".py",
   "mimetype": "text/x-python",
   "name": "python",
   "nbconvert_exporter": "python",
   "pygments_lexer": "ipython3",
   "version": "3.5.2"
  },
  "toc": {
   "base_numbering": 1,
   "nav_menu": {},
   "number_sections": true,
   "sideBar": true,
   "skip_h1_title": false,
   "title_cell": "Table of Contents",
   "title_sidebar": "Contents",
   "toc_cell": false,
   "toc_position": {},
   "toc_section_display": true,
   "toc_window_display": false
  }
 },
 "nbformat": 4,
 "nbformat_minor": 2
}
