{
 "cells": [
  {
   "cell_type": "code",
   "execution_count": 1,
   "metadata": {
    "ExecuteTime": {
     "end_time": "2018-06-18T18:08:12.737261Z",
     "start_time": "2018-06-18T18:08:09.409169Z"
    }
   },
   "outputs": [
    {
     "name": "stderr",
     "output_type": "stream",
     "text": [
      "Using TensorFlow backend.\n"
     ]
    },
    {
     "name": "stdout",
     "output_type": "stream",
     "text": [
      "(50000, 28, 28) (50000,)\n"
     ]
    },
    {
     "data": {
      "image/png": "[encoded data removed]",
      "text/plain": [
       "<matplotlib.figure.Figure at 0x2be1a5c9240>"
      ]
     },
     "metadata": {},
     "output_type": "display_data"
    }
   ],
   "source": [
    "from preprocessed_mnist import load_dataset\n",
    "X_train, y_train, X_val, y_val, X_test, y_test = load_dataset()\n",
    "print(X_train.shape, y_train.shape)\n",
    "import matplotlib.pyplot as plt\n",
    "%matplotlib inline\n",
    "plt.imshow(X_train[0], cmap=\"Greys\");"
   ]
  },
  {
   "cell_type": "code",
   "execution_count": 2,
   "metadata": {
    "ExecuteTime": {
     "end_time": "2018-06-18T18:08:12.746236Z",
     "start_time": "2018-06-18T18:08:12.740258Z"
    }
   },
   "outputs": [],
   "source": [
    "import tensorflow as tf\n",
    "import numpy as np"
   ]
  },
  {
   "cell_type": "markdown",
   "metadata": {},
   "source": [
    "### Helper functions"
   ]
  },
  {
   "cell_type": "code",
   "execution_count": 3,
   "metadata": {
    "ExecuteTime": {
     "end_time": "2018-06-18T18:08:12.805078Z",
     "start_time": "2018-06-18T18:08:12.751224Z"
    }
   },
   "outputs": [],
   "source": [
    "def to_1hot(y, num_classes):\n",
    "    \"\"\" Converts y labels to sparse matrix, see:\n",
    "    https://stackoverflow.com/questions/29831489/numpy-1-hot-array\n",
    "    \"\"\"\n",
    "    y_1hot = np.zeros((y.shape[0], num_classes))\n",
    "    y_1hot[np.arange(y.shape[0]), y] = 1\n",
    "    return y_1hot\n",
    "\n",
    "def flatten_images(x):\n",
    "    \"\"\" Converts input into 2d array \"\"\"\n",
    "    return x.reshape(x.shape[0], -1)"
   ]
  },
  {
   "cell_type": "markdown",
   "metadata": {},
   "source": [
    "### Preparing data"
   ]
  },
  {
   "cell_type": "code",
   "execution_count": 4,
   "metadata": {
    "ExecuteTime": {
     "end_time": "2018-06-18T18:08:12.901382Z",
     "start_time": "2018-06-18T18:08:12.807075Z"
    }
   },
   "outputs": [],
   "source": [
    "X_train_prep = flatten_images(X_train)\n",
    "X_test_prep = flatten_images(X_test)\n",
    "num_classes = np.unique(y_train).shape[0]\n",
    "y_train_1hot = to_1hot(y_train, num_classes)\n",
    "y_test_1hot = to_1hot(y_test, num_classes)"
   ]
  },
  {
   "cell_type": "markdown",
   "metadata": {},
   "source": [
    "### Creating network"
   ]
  },
  {
   "cell_type": "code",
   "execution_count": 5,
   "metadata": {
    "ExecuteTime": {
     "end_time": "2018-06-18T18:08:13.013008Z",
     "start_time": "2018-06-18T18:08:12.906370Z"
    }
   },
   "outputs": [],
   "source": [
    "x = tf.placeholder(dtype=tf.float32, shape=[None, 784])\n",
    "y = tf.placeholder(dtype=tf.float32, shape=[None, 10])"
   ]
  },
  {
   "cell_type": "code",
   "execution_count": 6,
   "metadata": {
    "ExecuteTime": {
     "end_time": "2018-06-18T18:08:13.078822Z",
     "start_time": "2018-06-18T18:08:13.019990Z"
    }
   },
   "outputs": [],
   "source": [
    "input_shape = X_train_prep.shape[1]\n",
    "hidden_1 = 256\n",
    "out_shape = num_classes"
   ]
  },
  {
   "cell_type": "code",
   "execution_count": 7,
   "metadata": {
    "ExecuteTime": {
     "end_time": "2018-06-18T18:08:13.261339Z",
     "start_time": "2018-06-18T18:08:13.083809Z"
    }
   },
   "outputs": [],
   "source": [
    "W1 = tf.Variable(initial_value=tf.random_normal(shape=(input_shape, hidden_1)))\n",
    "b1 = tf.Variable(initial_value=tf.zeros(hidden_1))\n",
    "W2 = tf.Variable(initial_value=tf.random_normal(shape=(hidden_1, out_shape)))\n",
    "b2 = tf.Variable(initial_value=tf.zeros(out_shape))"
   ]
  },
  {
   "cell_type": "code",
   "execution_count": 8,
   "metadata": {
    "ExecuteTime": {
     "end_time": "2018-06-18T18:08:13.345410Z",
     "start_time": "2018-06-18T18:08:13.262332Z"
    }
   },
   "outputs": [],
   "source": [
    "z1 = tf.nn.sigmoid(tf.matmul(x, W1) + b1)\n",
    "y_hat = tf.nn.softmax(tf.matmul(z1, W2) + b2)"
   ]
  },
  {
   "cell_type": "code",
   "execution_count": 9,
   "metadata": {
    "ExecuteTime": {
     "end_time": "2018-06-18T18:08:13.392531Z",
     "start_time": "2018-06-18T18:08:13.347342Z"
    }
   },
   "outputs": [],
   "source": [
    "cross_entropy = tf.reduce_mean(-tf.reduce_sum(y * tf.log(y_hat), reduction_indices=[1]))"
   ]
  },
  {
   "cell_type": "code",
   "execution_count": 10,
   "metadata": {
    "ExecuteTime": {
     "end_time": "2018-06-18T18:08:13.662834Z",
     "start_time": "2018-06-18T18:08:13.394324Z"
    }
   },
   "outputs": [],
   "source": [
    "optimizer = tf.train.AdamOptimizer(.01).minimize(cross_entropy)"
   ]
  },
  {
   "cell_type": "code",
   "execution_count": 11,
   "metadata": {
    "ExecuteTime": {
     "end_time": "2018-06-18T18:08:13.686767Z",
     "start_time": "2018-06-18T18:08:13.666821Z"
    }
   },
   "outputs": [],
   "source": [
    "correct_prediction = tf.equal(tf.argmax(y_hat,1), tf.argmax(y,1))\n",
    "accuracy = tf.reduce_mean(tf.cast(correct_prediction, tf.float32))"
   ]
  },
  {
   "cell_type": "markdown",
   "metadata": {},
   "source": [
    "### Training"
   ]
  },
  {
   "cell_type": "code",
   "execution_count": 12,
   "metadata": {
    "ExecuteTime": {
     "end_time": "2018-06-18T18:08:13.747614Z",
     "start_time": "2018-06-18T18:08:13.689761Z"
    }
   },
   "outputs": [],
   "source": [
    "num_epochs = 20\n",
    "batch_size = 100\n",
    "train_loop = X_train.shape[0] // batch_size"
   ]
  },
  {
   "cell_type": "code",
   "execution_count": 13,
   "metadata": {
    "ExecuteTime": {
     "end_time": "2018-06-18T18:09:37.979130Z",
     "start_time": "2018-06-18T18:08:13.758579Z"
    }
   },
   "outputs": [
    {
     "name": "stdout",
     "output_type": "stream",
     "text": [
      "epoch  1 test accuracy: 0.9215\n",
      "epoch  2 test accuracy: 0.9380\n",
      "epoch  3 test accuracy: 0.9483\n",
      "epoch  4 test accuracy: 0.9574\n",
      "epoch  5 test accuracy: 0.9580\n",
      "epoch  6 test accuracy: 0.9526\n",
      "epoch  7 test accuracy: 0.9616\n",
      "epoch  8 test accuracy: 0.9546\n",
      "epoch  9 test accuracy: 0.9617\n",
      "epoch 10 test accuracy: 0.9676\n",
      "epoch 11 test accuracy: 0.9629\n",
      "epoch 12 test accuracy: 0.9625\n",
      "epoch 13 test accuracy: 0.9618\n",
      "epoch 14 test accuracy: 0.9683\n",
      "epoch 15 test accuracy: 0.9596\n",
      "epoch 16 test accuracy: 0.9683\n",
      "epoch 17 test accuracy: 0.9697\n",
      "epoch 18 test accuracy: 0.9691\n",
      "epoch 19 test accuracy: 0.9629\n",
      "epoch 20 test accuracy: 0.9641\n"
     ]
    }
   ],
   "source": [
    "train_loss = []\n",
    "test_loss = []\n",
    "train_acc = []\n",
    "test_acc = []\n",
    "np.random.seed(42)\n",
    "with tf.Session() as s:\n",
    "    tf.global_variables_initializer().run()\n",
    "    for epoch in range(num_epochs):\n",
    "        idx = np.arange(X_train_prep.shape[0])\n",
    "        # randomly shuffling all samples\n",
    "        np.random.shuffle(idx)\n",
    "        for batch in range(train_loop):\n",
    "            s_idx = batch * batch_size\n",
    "            e_idx = (batch + 1) * batch_size\n",
    "            batch_idx = idx[s_idx:e_idx]\n",
    "            s.run(optimizer, feed_dict={x: X_train_prep[batch_idx], y: y_train_1hot[batch_idx]})\n",
    "        # evaluating on every epoch\n",
    "        train_loss.append(s.run(cross_entropy, feed_dict={x: X_train_prep, y: y_train_1hot}))\n",
    "        test_loss.append(s.run(cross_entropy, feed_dict={x: X_test_prep, y: y_test_1hot}))\n",
    "        train_acc.append(s.run(accuracy, feed_dict={x: X_train_prep, y: y_train_1hot}))\n",
    "        test_acc.append(s.run(accuracy, feed_dict={x: X_test_prep, y: y_test_1hot}))\n",
    "        print('epoch %2d test accuracy: %.4f' % ((epoch + 1), test_acc[-1]))"
   ]
  },
  {
   "cell_type": "markdown",
   "metadata": {},
   "source": [
    "### Results"
   ]
  },
  {
   "cell_type": "code",
   "execution_count": 14,
   "metadata": {
    "ExecuteTime": {
     "end_time": "2018-06-18T18:09:38.005063Z",
     "start_time": "2018-06-18T18:09:37.983120Z"
    }
   },
   "outputs": [
    {
     "name": "stdout",
     "output_type": "stream",
     "text": [
      "max test accuracy: 0.9697 on the epoch: 16\n"
     ]
    }
   ],
   "source": [
    "print('max test accuracy: %.4f on the epoch: %2d' % (max(test_acc), np.argmax(test_acc)))"
   ]
  },
  {
   "cell_type": "code",
   "execution_count": 15,
   "metadata": {
    "ExecuteTime": {
     "end_time": "2018-06-18T18:09:38.261043Z",
     "start_time": "2018-06-18T18:09:38.013040Z"
    }
   },
   "outputs": [
    {
     "data": {
      "image/png": "[encoded data removed]",
      "text/plain": [
       "<matplotlib.figure.Figure at 0x2be28744048>"
      ]
     },
     "metadata": {},
     "output_type": "display_data"
    }
   ],
   "source": [
    "plt.plot(train_loss)\n",
    "plt.plot(test_loss)\n",
    "plt.show()"
   ]
  },
  {
   "cell_type": "code",
   "execution_count": 16,
   "metadata": {
    "ExecuteTime": {
     "end_time": "2018-06-18T18:09:38.427603Z",
     "start_time": "2018-06-18T18:09:38.264035Z"
    }
   },
   "outputs": [
    {
     "data": {
      "image/png": "[encoded data removed]",
      "text/plain": [
       "<matplotlib.figure.Figure at 0x2be29741b70>"
      ]
     },
     "metadata": {},
     "output_type": "display_data"
    }
   ],
   "source": [
    "plt.plot(train_acc)\n",
    "plt.plot(test_acc)\n",
    "plt.show()"
   ]
  },
  {
   "cell_type": "code",
   "execution_count": null,
   "metadata": {},
   "outputs": [],
   "source": []
  }
 ],
 "metadata": {
  "kernelspec": {
   "display_name": "Python 3",
   "language": "python",
   "name": "python3"
  },
  "language_info": {
   "codemirror_mode": {
    "name": "ipython",
    "version": 3
   },
   "file_extension": ".py",
   "mimetype": "text/x-python",
   "name": "python",
   "nbconvert_exporter": "python",
   "pygments_lexer": "ipython3",
   "version": "3.5.2"
  },
  "toc": {
   "base_numbering": 1,
   "nav_menu": {},
   "number_sections": true,
   "sideBar": true,
   "skip_h1_title": false,
   "title_cell": "Table of Contents",
   "title_sidebar": "Contents",
   "toc_cell": false,
   "toc_position": {},
   "toc_section_display": true,
   "toc_window_display": false
  }
 },
 "nbformat": 4,
 "nbformat_minor": 2
}
